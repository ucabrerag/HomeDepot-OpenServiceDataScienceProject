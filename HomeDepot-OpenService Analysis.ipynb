{
 "cells": [
  {
   "cell_type": "code",
   "execution_count": null,
   "metadata": {},
   "outputs": [],
   "source": [
    "import pandas as pd\n",
    "import matplotlib\n",
    "import matplotlib.pyplot as plt\n",
    "%matplotlib inline\n",
    "\n",
    "import seaborn as sns\n",
    "sns.set_context(\"notebook\")\n",
    "sns.set_style(\"white\")\n",
    "sns.set()"
   ]
  },
  {
   "cell_type": "code",
   "execution_count": null,
   "metadata": {},
   "outputs": [],
   "source": [
    "data = pd.read_csv(\"HomeDepot.csv\")"
   ]
  },
  {
   "cell_type": "code",
   "execution_count": null,
   "metadata": {},
   "outputs": [],
   "source": [
    "data= data.drop(\"Unnamed: 0\", axis=1)"
   ]
  },
  {
   "cell_type": "code",
   "execution_count": null,
   "metadata": {},
   "outputs": [],
   "source": [
    "data_filtrado.to_csv(\"DataFiltrado.csv\", index=False)"
   ]
  },
  {
   "cell_type": "code",
   "execution_count": null,
   "metadata": {},
   "outputs": [],
   "source": [
    "mayo2019 = data_filtrado[(data_filtrado[\"MesRegistro\"]==5) & (data_filtrado[\"AnoRegistro\"]==2019) & (data_filtrado[\"Estatus\"]==\"Cerrado\")]"
   ]
  },
  {
   "cell_type": "code",
   "execution_count": null,
   "metadata": {},
   "outputs": [],
   "source": [
    "data_sol=data_filtrado[(data_filtrado[\"Clasificacion\"]==\"Incidente\") &\n",
    "                       (data_filtrado[\"Estatus\"]==\"Cerrado\") &\n",
    "                         (data_filtrado[\"CerradoEnLinea\"]==0)]\n",
    "\n",
    "data_sol = data_sol.drop(data_sol[(data_sol['ClienteEmpresa']=='8700-OAT') |\n",
    "                          (data_sol['ClienteEmpresa']=='0000-GENERAL') |\n",
    "                            (data_sol['ClienteEmpresa']=='8061-MDC CIENEGA DE FLORES') | \n",
    "                                       (data_sol['ClienteEmpresa']=='8799-MDC ATITALAQUIA')].index)\n",
    "data_sol\n",
    "print(data_sol.shape)"
   ]
  },
  {
   "cell_type": "code",
   "execution_count": null,
   "metadata": {},
   "outputs": [],
   "source": [
    "agente = (data[data[\"Agente\"]==\"Edgar Cardenas Ollivier\"])\n",
    "agente.pivot_table(columns=\"Prioridad\", index=\"Agente\", aggfunc=\"sum\" )"
   ]
  },
  {
   "cell_type": "code",
   "execution_count": null,
   "metadata": {},
   "outputs": [],
   "source": [
    "pd.crosstab(agente[\"Agente\"], columns=agente[\"Prioridad\"])"
   ]
  },
  {
   "cell_type": "code",
   "execution_count": null,
   "metadata": {},
   "outputs": [],
   "source": [
    "agentetickets= pd.crosstab(data[\"Agente\"], \"tickets\").sort_values(\"tickets\", ascending=False)\n",
    "agentetickets[agentetickets[\"tickets\"]>100]"
   ]
  },
  {
   "cell_type": "code",
   "execution_count": null,
   "metadata": {},
   "outputs": [],
   "source": [
    "data.columns.tolist()"
   ]
  },
  {
   "cell_type": "code",
   "execution_count": null,
   "metadata": {},
   "outputs": [],
   "source": [
    "data_filtrado[data_filtrado[\"FechaRegistro\"]==]"
   ]
  },
  {
   "cell_type": "code",
   "execution_count": null,
   "metadata": {},
   "outputs": [],
   "source": [
    "data_filtrado = data[['FechaSolucion',\n",
    " 'FechaRegistro',\n",
    " 'CategoriaN1',\n",
    " 'GrupoN1',\n",
    " 'GrupoN2',\n",
    "                      'MesRegistro',\n",
    "                      'AnoRegistro',\n",
    " 'GrupoN3',\n",
    "                      'Ubicacion',\n",
    " 'UbicacionJerarquia',\n",
    " 'Ciudad',\n",
    " 'Estado',\n",
    " 'Pais',\n",
    " 'Agente',\n",
    " 'AgentePuesto',\n",
    " 'Categoria',\n",
    " 'IdEstatusIncidente',\n",
    " 'Estatus',\n",
    " 'IdPrioridad',\n",
    " 'Prioridad',\n",
    " 'Clasificacion',\n",
    " 'SemaforoSLA',\n",
    " 'Causa',\n",
    " 'CerradoEnLinea',\n",
    " 'ClienteEmpresa',\n",
    " 'ClienteGrupo',\n",
    "'Causa',\n",
    "'CausaJer',\n",
    " 'Fuente',\n",
    " 'CategoriaTiempoSolucion',\n",
    " 'TiempoDedicadoCierre',\n",
    " 'TiempoRespuesta',\n",
    " 'TiempoLaboral',\n",
    " 'TiempoPendiente',\n",
    " 'TiempoSolucion',\n",
    " 'TiempoSolucionEsperado',\n",
    " 'TiempoTranscurrido',\n",
    " 'TiempoCierre',\n",
    " 'TiempoRespuestaEsperado',\n",
    " 'TiempoSobraSLA',\n",
    " 'TiempoEfectivo',\n",
    " 'TiempoAtencion']]"
   ]
  },
  {
   "cell_type": "code",
   "execution_count": null,
   "metadata": {},
   "outputs": [],
   "source": [
    "data_filtrado.shape"
   ]
  },
  {
   "cell_type": "code",
   "execution_count": null,
   "metadata": {},
   "outputs": [],
   "source": [
    "data[\"Categoria\"].nunique()"
   ]
  },
  {
   "cell_type": "code",
   "execution_count": null,
   "metadata": {},
   "outputs": [],
   "source": [
    "data[\"Estatus\"].unique()"
   ]
  },
  {
   "cell_type": "code",
   "execution_count": null,
   "metadata": {},
   "outputs": [],
   "source": [
    "data_filtrado[(data_filtrado[\"TiempoRespuesta\"]<=0) & (data_filtrado[\"CerradoEnLinea\"]==0)]"
   ]
  },
  {
   "cell_type": "code",
   "execution_count": null,
   "metadata": {},
   "outputs": [],
   "source": [
    "data_filtrado[(data_filtrado[\"TiempoCierre\"]>0) & (data_filtrado[\"TiempoCierre\"]<5) & (data_filtrado[\"Agente\"]==\"Edwin Gaytan 0\")]"
   ]
  },
  {
   "cell_type": "code",
   "execution_count": null,
   "metadata": {},
   "outputs": [],
   "source": [
    "data_filtrado[(data_filtrado[\"TiempoRespuesta\"]<=0) & (data_filtrado[\"CerradoEnLinea\"]==1)]"
   ]
  },
  {
   "cell_type": "code",
   "execution_count": null,
   "metadata": {},
   "outputs": [],
   "source": [
    "data_filtrado[((data_filtrado[\"TiempoRespuesta\"]==0) & (data_filtrado[\"CerradoEnLinea\"]==0)) | (data[\"Fuente\"]==\"Llamada\")]"
   ]
  },
  {
   "cell_type": "code",
   "execution_count": null,
   "metadata": {},
   "outputs": [],
   "source": [
    "data_filtrado.shape"
   ]
  },
  {
   "cell_type": "code",
   "execution_count": null,
   "metadata": {},
   "outputs": [],
   "source": [
    "data_filtrado.to_csv(\"DataFiltrado.csv\", index=False)"
   ]
  },
  {
   "cell_type": "code",
   "execution_count": null,
   "metadata": {},
   "outputs": [],
   "source": [
    "data[\"Fuente\"].unique()"
   ]
  },
  {
   "cell_type": "markdown",
   "metadata": {},
   "source": [
    "# TIEMPO PROMEDIO DE SOLUCIÓN POR CATEGORIA (TOP 10)"
   ]
  },
  {
   "cell_type": "code",
   "execution_count": null,
   "metadata": {},
   "outputs": [],
   "source": [
    "pro_sol=pd.crosstab(data_filtrado[\"Categoria\"], \"TIEMPO PROMEDIO DE SOLUCIÓN\", \n",
    "           values=data_filtrado[\"TiempoSolucion\"], \n",
    "            aggfunc=\"mean\").sort_values(\"TIEMPO PROMEDIO DE SOLUCIÓN\",\n",
    "                                      ascending=False)\n",
    "pro_sol           "
   ]
  },
  {
   "cell_type": "code",
   "execution_count": null,
   "metadata": {},
   "outputs": [],
   "source": [
    "pro_sol.plot(kind=\"bar\", figsize=(10,8), fontsize=15)\n",
    "plt.title(\"TIEMPO PROMEDIO DE SOLUCIÓN POR CATEGORÍA\", fontsize=20)\n",
    "plt.ylabel(\"minutos en promedio\", fontsize=20, color=\"red\")\n",
    "plt.xlabel(\"categoría\", fontsize=20, color=\"red\")"
   ]
  },
  {
   "cell_type": "markdown",
   "metadata": {},
   "source": [
    "# tiempo de solucion promedio en 1 hora o menos"
   ]
  },
  {
   "cell_type": "code",
   "execution_count": null,
   "metadata": {},
   "outputs": [],
   "source": [
    "print(\"Aproximadamente el \" + str((data_filtrado[data_filtrado[\"TiempoSolucion\"]<=60].shape[0]/data_filtrado.shape[0])*100) + \" % de los casos se resuelven en 1 hora o menos \")\n",
    "print(\"Mientras que aproximadamente el \" + str((data_filtrado[data_filtrado[\"TiempoSolucion\"]>60].shape[0]/data_filtrado.shape[0])*100) + \" % de los casos se resuelven en 1 hora o más \")"
   ]
  },
  {
   "cell_type": "code",
   "execution_count": null,
   "metadata": {},
   "outputs": [],
   "source": [
    "hora_sol=data_filtrado.pivot_table(\"TiempoSolucion\", \"Categoria\", \n",
    "                   aggfunc=\"mean\").sort_values(\"TiempoSolucion\",\n",
    "                   ascending=False)#.plot(kind=\"barh\")\n",
    "hora_sol.columns=[\"Tiempo Solucion Promedio\"]\n",
    "hora_sol_60 = hora_sol[(hora_sol[\"Tiempo Solucion Promedio\"]<=60) & (hora_sol[\"Tiempo Solucion Promedio\"]>0)].iloc[:20]\n",
    "hora_sol_60"
   ]
  },
  {
   "cell_type": "markdown",
   "metadata": {},
   "source": [
    "# tiempo de respuesta promedio"
   ]
  },
  {
   "cell_type": "code",
   "execution_count": null,
   "metadata": {},
   "outputs": [],
   "source": [
    "print(\"Aproximadamente el \" + str((data_filtrado[data_filtrado[\"TiempoRespuesta\"]<=60].shape[0]/data_filtrado.shape[0])*100) + \" % de los casos se responden en 1 hora o menos \")\n",
    "print(\"Mientras que aproximadamente el \" + str((data_filtrado[data_filtrado[\"TiempoRespuesta\"]>60].shape[0]/data_filtrado.shape[0])*100) + \" % de los casos se responden en 1 hora o más \")"
   ]
  },
  {
   "cell_type": "code",
   "execution_count": null,
   "metadata": {},
   "outputs": [],
   "source": [
    "pro_resp=data_filtrado.pivot_table(\"TiempoRespuesta\", \"Categoria\",  \n",
    "            aggfunc=\"mean\").sort_values(\"TiempoRespuesta\",\n",
    "                                      ascending=False)\n",
    "pro_resp.iloc[:10]\n",
    "#pro_resp[(pro_resp[\"TiempoRespuesta\"]<=60) & (pro_resp[\"TiempoRespuesta\"]>0)].iloc[:20]"
   ]
  },
  {
   "cell_type": "code",
   "execution_count": null,
   "metadata": {},
   "outputs": [],
   "source": [
    "pro_resp.iloc[:10].plot(kind=\"bar\", color=\"orange\", figsize=(10,8))"
   ]
  },
  {
   "cell_type": "markdown",
   "metadata": {},
   "source": [
    "# tiempo cierre promedio"
   ]
  },
  {
   "cell_type": "code",
   "execution_count": null,
   "metadata": {},
   "outputs": [],
   "source": [
    "print(\"Aproximadamente el \" + str((data_filtrado[data_filtrado[\"TiempoCierre\"]<=60].shape[0]/data_filtrado.shape[0])*100) + \" % de los casos se CIERRAN en 1 hora o menos \")\n",
    "print(\"Mientras que aproximadamente el \" + str((data_filtrado[data_filtrado[\"TiempoCierre\"]>60].shape[0]/data_filtrado.shape[0])*100) + \" % de los casos se CIERRAN en 1 hora o más \")"
   ]
  },
  {
   "cell_type": "code",
   "execution_count": null,
   "metadata": {},
   "outputs": [],
   "source": [
    "pro_cierre = data_filtrado.pivot_table(\"TiempoCierre\", \"Categoria\", aggfunc=\"mean\").sort_values(\n",
    "\"TiempoCierre\", ascending=False)\n",
    "pro_cierre.iloc[:10]"
   ]
  },
  {
   "cell_type": "code",
   "execution_count": null,
   "metadata": {},
   "outputs": [],
   "source": [
    "pro_cierre.iloc[:10].plot(kind=\"bar\", color=\"green\", figsize=(10,8))"
   ]
  },
  {
   "cell_type": "code",
   "execution_count": null,
   "metadata": {},
   "outputs": [],
   "source": [
    "data_filtrado[\"año\"] = pd.DatetimeIndex(data_filtrado['FechaSolucion']).year"
   ]
  },
  {
   "cell_type": "code",
   "execution_count": null,
   "metadata": {},
   "outputs": [],
   "source": [
    "data_filtrado= data_filtrado[(data_filtrado[\"año\"]==2017) | (data_filtrado[\"año\"]==2018) | (data_filtrado[\"año\"]==2019)]"
   ]
  },
  {
   "cell_type": "code",
   "execution_count": null,
   "metadata": {},
   "outputs": [],
   "source": [
    "data.columns.tolist()#str.contains(\"Tiempo\")"
   ]
  },
  {
   "cell_type": "code",
   "execution_count": null,
   "metadata": {},
   "outputs": [],
   "source": [
    "data_filtrado.to_csv(\"DataFiltrado.csv\",index=False)"
   ]
  },
  {
   "cell_type": "code",
   "execution_count": null,
   "metadata": {},
   "outputs": [],
   "source": [
    "data_filtrado.head()"
   ]
  },
  {
   "cell_type": "code",
   "execution_count": null,
   "metadata": {},
   "outputs": [],
   "source": [
    "data_filtrado[\"ClienteEmpresa\"].unique()"
   ]
  },
  {
   "cell_type": "markdown",
   "metadata": {},
   "source": [
    "# NUMERO DE TICKETS POR CLIENTE"
   ]
  },
  {
   "cell_type": "code",
   "execution_count": null,
   "metadata": {},
   "outputs": [],
   "source": [
    "pd.crosstab(data_bueno[\"ClienteGrupo\"], \"Numero de tickets\").sort_values(\"Numero de tickets\", ascending=False)"
   ]
  },
  {
   "cell_type": "markdown",
   "metadata": {},
   "source": [
    "# NUMERO DE TICKETS POR ESTATUS"
   ]
  },
  {
   "cell_type": "code",
   "execution_count": null,
   "metadata": {},
   "outputs": [],
   "source": [
    "pd.crosstab(data_filtrado[\"Estatus\"], \"Numero de tickets\").sort_values(\"Numero de tickets\", ascending=False)"
   ]
  },
  {
   "cell_type": "code",
   "execution_count": null,
   "metadata": {},
   "outputs": [],
   "source": [
    "# NUMERO DE PROMEDIO DE TIEMPO DE SOLUCION POR CADA FUENTE"
   ]
  },
  {
   "cell_type": "code",
   "execution_count": null,
   "metadata": {},
   "outputs": [],
   "source": [
    "data_filtrado.pivot_table(\"TiempoSolucion\", \"Fuente\", aggfunc=\"mean\").sort_values(\n",
    "\"TiempoSolucion\", ascending=True).plot(kind=\"barh\",\n",
    "                                                                          figsize=(10,8))"
   ]
  },
  {
   "cell_type": "markdown",
   "metadata": {},
   "source": [
    "# NUMERO DE TICKETS POR CATEGORIA"
   ]
  },
  {
   "cell_type": "code",
   "execution_count": null,
   "metadata": {},
   "outputs": [],
   "source": [
    "pd.crosstab(data_filtrado[\"Categoria\"], \"Numero de tickets\").sort_values(\"Numero de tickets\", ascending=False)"
   ]
  },
  {
   "cell_type": "markdown",
   "metadata": {},
   "source": [
    "# ANÁLISIS DE TIEMPO DE SOLUCION"
   ]
  },
  {
   "cell_type": "code",
   "execution_count": null,
   "metadata": {},
   "outputs": [],
   "source": [
    "data_filtrado= data[['FechaSolucion', 'FechaRegistro','CategoriaN1', 'GrupoN1','GrupoN2','GrupoN3', 'Agente', 'AgentePuesto','Categoria','IdEstatusIncidente','Estatus','IdPrioridad', 'Prioridad', 'Clasificacion', 'SemaforoSLA','Causa', 'CerradoEnLinea','ClienteEmpresa', 'ClienteGrupo', 'Fuente','CategoriaTiempoSolucion', 'TiempoDedicadoCierre','TiempoRespuesta',  'TiempoLaboral', 'TiempoPendiente',\n",
    "'TiempoSolucion', 'TiempoSolucionEsperado','TiempoTranscurrido', 'TiempoCierre',  'TiempoRespuestaEsperado', 'TiempoSobraSLA', 'TiempoEfectivo', 'TiempoAtencion']]"
   ]
  },
  {
   "cell_type": "code",
   "execution_count": null,
   "metadata": {},
   "outputs": [],
   "source": [
    "data_filtrado= data[['FechaSolucion', 'CategoriaN1', 'GrupoN1','GrupoN2','GrupoN3', 'Agente', 'AgentePuesto','Categoria','IdEstatusIncidente','Estatus', 'Prioridad', 'Clasificacion', 'SemaforoSLA','Causa', 'CerradoEnLinea','ClienteEmpresa', 'ClienteGrupo', 'Fuente','CategoriaTiempoSolucion', 'TiempoDedicadoCierre','TiempoRespuesta',  'TiempoLaboral', 'TiempoPendiente',\n",
    "'TiempoSolucion', 'TiempoSolucionEsperado','TiempoTranscurrido', 'TiempoCierre',  'TiempoRespuestaEsperado', 'TiempoSobraSLA', 'TiempoEfectivo', 'TiempoAtencion']]"
   ]
  },
  {
   "cell_type": "code",
   "execution_count": null,
   "metadata": {},
   "outputs": [],
   "source": [
    "data_sol=data_filtrado[(data_filtrado[\"Clasificacion\"]==\"Incidente\") &\n",
    "                       (data_filtrado[\"Estatus\"]==\"Cerrado\") &\n",
    "                         (data_filtrado[\"CerradoEnLinea\"]==0)]\n",
    "\n",
    "data_sol = data_sol.drop(data_sol[(data_sol['ClienteEmpresa']=='8700-OAT') |\n",
    "                          (data_sol['ClienteEmpresa']=='0000-GENERAL') |\n",
    "                            (data_sol['ClienteEmpresa']=='8061-MDC CIENEGA DE FLORES') | \n",
    "                                       (data_sol['ClienteEmpresa']=='8799-MDC ATITALAQUIA')].index)\n",
    "data_sol\n",
    "print(data_sol.shape)"
   ]
  },
  {
   "cell_type": "markdown",
   "metadata": {},
   "source": [
    "# BOXPLOTS DE TIEMPO DE SOLUCION DE CADA UNA DE LAS PRIORIDADES"
   ]
  },
  {
   "cell_type": "code",
   "execution_count": null,
   "metadata": {},
   "outputs": [],
   "source": [
    "data_alta=data_sol[data_sol[\"Prioridad\"]==\"ALTA\"]\n",
    "plt.boxplot(data_alta[\"TiempoSolucion\"])\n",
    "print(data_alta[\"TiempoSolucion\"].describe())"
   ]
  },
  {
   "cell_type": "code",
   "execution_count": null,
   "metadata": {},
   "outputs": [],
   "source": [
    "data_media=data_sol[data_sol[\"Prioridad\"]==\"MEDIA\"]\n",
    "plt.boxplot(data_media[\"TiempoSolucion\"])\n",
    "print(data_media[\"TiempoSolucion\"].describe())"
   ]
  },
  {
   "cell_type": "code",
   "execution_count": null,
   "metadata": {},
   "outputs": [],
   "source": [
    "data_baja=data_sol[data_sol[\"Prioridad\"]==\"BAJA\"]\n",
    "plt.boxplot(data_baja[\"TiempoSolucion\"])\n",
    "print(data_baja[\"TiempoSolucion\"].describe())"
   ]
  },
  {
   "cell_type": "code",
   "execution_count": null,
   "metadata": {},
   "outputs": [],
   "source": [
    "data_critica=data_sol[data_sol[\"Prioridad\"]==\"CRITICA\"]\n",
    "plt.boxplot(data_critica[\"TiempoSolucion\"])\n",
    "print(data_critica[\"TiempoSolucion\"].describe())"
   ]
  },
  {
   "cell_type": "code",
   "execution_count": null,
   "metadata": {},
   "outputs": [],
   "source": [
    "data_planear=data_sol[data_sol[\"Prioridad\"]==\"PLANEAR\"]\n",
    "plt.boxplot(data_planear[\"TiempoSolucion\"])\n",
    "print(data_planear[\"TiempoSolucion\"].describe())"
   ]
  },
  {
   "cell_type": "code",
   "execution_count": null,
   "metadata": {},
   "outputs": [],
   "source": [
    "#TIEMPO SOLUCION PROMEDIO POR FUENTE\n",
    "data_sol.pivot_table(\"TiempoSolucion\", \"Fuente\", aggfunc=\"mean\").sort_values(\"TiempoSolucion\", ascending=False).plot(kind=\"barh\")"
   ]
  },
  {
   "cell_type": "code",
   "execution_count": null,
   "metadata": {},
   "outputs": [],
   "source": [
    "pd.cut(data_sol['TiempoSolucion'], bins=[0,18,25, 35, 50, 65, 100], include_lowest=True, precision=1, right=False)\n"
   ]
  },
  {
   "cell_type": "code",
   "execution_count": null,
   "metadata": {},
   "outputs": [],
   "source": [
    "data_sol[\"TiempoRespuesta\"].describe()"
   ]
  },
  {
   "cell_type": "markdown",
   "metadata": {},
   "source": [
    "# ANÁLISIS POR AGENTE"
   ]
  },
  {
   "cell_type": "code",
   "execution_count": null,
   "metadata": {},
   "outputs": [],
   "source": [
    "data_agente=data_sol[data_sol[\"AgentePuesto\"].str.contains(\"Agente\", na=True)]"
   ]
  },
  {
   "cell_type": "code",
   "execution_count": null,
   "metadata": {},
   "outputs": [],
   "source": [
    "data_agente[\"GrupoN1\"].nunique()"
   ]
  },
  {
   "cell_type": "code",
   "execution_count": null,
   "metadata": {},
   "outputs": [],
   "source": [
    "data_agente[\"AgentePuesto\"].isnull().sum()"
   ]
  },
  {
   "cell_type": "code",
   "execution_count": null,
   "metadata": {},
   "outputs": [],
   "source": [
    "data_agente[\"AgentePuesto\"].unique()"
   ]
  },
  {
   "cell_type": "code",
   "execution_count": null,
   "metadata": {},
   "outputs": [],
   "source": [
    "data_agente[\"AgentePuesto\"]= data_agente[\"AgentePuesto\"].replace(\"\\xa0Agente Jr\",\"Agente Jr\")"
   ]
  },
  {
   "cell_type": "code",
   "execution_count": null,
   "metadata": {},
   "outputs": [],
   "source": [
    "data_agente[\"AgentePuesto\"].unique()"
   ]
  },
  {
   "cell_type": "code",
   "execution_count": null,
   "metadata": {},
   "outputs": [],
   "source": [
    "data_agente[\"AgentePuesto\"]= data_agente[\"AgentePuesto\"].replace(\"Agente de Service Desk\",\"Agente Service Desk\")"
   ]
  },
  {
   "cell_type": "code",
   "execution_count": null,
   "metadata": {},
   "outputs": [],
   "source": [
    "data_agente[\"AgentePuesto\"]= data_agente[\"AgentePuesto\"].replace(\"Agente ServiceDesk\",\"Agente Service Desk\")"
   ]
  },
  {
   "cell_type": "code",
   "execution_count": null,
   "metadata": {},
   "outputs": [],
   "source": [
    "data_agente.head()"
   ]
  },
  {
   "cell_type": "code",
   "execution_count": null,
   "metadata": {},
   "outputs": [],
   "source": [
    "#data_agente=data_agente[(data_agente[\"Prioridad\"]==\"ALTA\") | (data_agente[\"Prioridad\"]==\"CRITICA\")]"
   ]
  },
  {
   "cell_type": "code",
   "execution_count": null,
   "metadata": {},
   "outputs": [],
   "source": [
    "data_agente.pivot_table(\"TiempoSolucion\", \"AgentePuesto\", aggfunc=\"mean\")"
   ]
  },
  {
   "cell_type": "code",
   "execution_count": null,
   "metadata": {},
   "outputs": [],
   "source": [
    "#titanic.pivot_table('survived', index=['sex', age], columns='class')\n",
    "data_agente.pivot_table(\"TiempoSolucion\", index=\"AgentePuesto\",\n",
    "                        columns=\"Prioridad\", aggfunc=\"mean\").sort_values(\"ALTA\",ascending=False).sort_values(\"AgentePuesto\")\n"
   ]
  },
  {
   "cell_type": "code",
   "execution_count": null,
   "metadata": {},
   "outputs": [],
   "source": [
    "data_agente[data_agente[\"GrupoN1\"].isin([\"SOS TEAM SMS\",\"PROVEEDORES\", \"CreditSupport\", \"\"])]"
   ]
  },
  {
   "cell_type": "code",
   "execution_count": null,
   "metadata": {},
   "outputs": [],
   "source": [
    "pd.crosstab(data_agente[\"GrupoN1\"], \"tickets\").sort_values(\"tickets\",ascending=False)"
   ]
  },
  {
   "cell_type": "code",
   "execution_count": null,
   "metadata": {},
   "outputs": [],
   "source": [
    "##AGENTE PUESTO AGENTE"
   ]
  },
  {
   "cell_type": "code",
   "execution_count": null,
   "metadata": {},
   "outputs": [],
   "source": [
    "data_agentejr = data_agente[data_agente[\"AgentePuesto\"]==\"Agente Jr\"]\n",
    "data_agentejr.pivot_table(\"TiempoSolucion\", \"Agente\")"
   ]
  },
  {
   "cell_type": "code",
   "execution_count": null,
   "metadata": {},
   "outputs": [],
   "source": [
    "data_agente1 = data_agente[data_agente[\"AgentePuesto\"]==\"Agente\"]\n",
    "data_agente1.pivot_table(\"TiempoSolucion\", \"Agente\")"
   ]
  },
  {
   "cell_type": "code",
   "execution_count": null,
   "metadata": {},
   "outputs": [],
   "source": [
    "(data_agente[data_agente[\"AgentePuesto\"]==\"Agente SMS\"])[\"Agente\"].unique()\n"
   ]
  },
  {
   "cell_type": "code",
   "execution_count": null,
   "metadata": {},
   "outputs": [],
   "source": [
    "data_filtrado[\"Clasificacion\"].unique()"
   ]
  },
  {
   "cell_type": "code",
   "execution_count": null,
   "metadata": {},
   "outputs": [],
   "source": [
    "data_sol.to_csv(\"DataAgente.csv\",index=False)"
   ]
  },
  {
   "cell_type": "code",
   "execution_count": null,
   "metadata": {},
   "outputs": [],
   "source": [
    "(data[(data[\"CategoriaN1\"]==\"SMS\") & (data[\"Estatus\"]==\"Cerrado\") & (data[\"TiempoSolucion\"]>0)])[\"TiempoSolucion\"].describe()"
   ]
  },
  {
   "cell_type": "code",
   "execution_count": null,
   "metadata": {},
   "outputs": [],
   "source": [
    "data['año'] = pd.DatetimeIndex(data['FechaSolucion']).year"
   ]
  },
  {
   "cell_type": "code",
   "execution_count": null,
   "metadata": {},
   "outputs": [],
   "source": [
    "data_ano = (data[(data[\"CategoriaN1\"]==\"SMS\") & (data[\"Estatus\"]==\"Cerrado\") & (data[\"TiempoSolucion\"]>=0)])"
   ]
  },
  {
   "cell_type": "code",
   "execution_count": null,
   "metadata": {},
   "outputs": [],
   "source": [
    "(data_ano[(data_ano[\"año\"]==2017) | (data_ano[\"año\"]==2018)| (data_ano[\"año\"]==2019)])[\"TiempoSolucion\"].describe()"
   ]
  },
  {
   "cell_type": "code",
   "execution_count": null,
   "metadata": {},
   "outputs": [],
   "source": [
    "data_filtrado.shape"
   ]
  },
  {
   "cell_type": "code",
   "execution_count": null,
   "metadata": {},
   "outputs": [],
   "source": [
    "data_filtrado.head()"
   ]
  },
  {
   "cell_type": "code",
   "execution_count": null,
   "metadata": {},
   "outputs": [],
   "source": [
    "data_sol[\"CategoriaN1\"].unique()"
   ]
  },
  {
   "cell_type": "code",
   "execution_count": null,
   "metadata": {},
   "outputs": [],
   "source": [
    "(data_sol[\"AgentePuesto\"]==\"AgenteJr\").count()"
   ]
  },
  {
   "cell_type": "code",
   "execution_count": null,
   "metadata": {},
   "outputs": [],
   "source": [
    "data_sol[\"AgentePuesto\"].unique()"
   ]
  },
  {
   "cell_type": "code",
   "execution_count": null,
   "metadata": {},
   "outputs": [],
   "source": [
    "data_sol.shape"
   ]
  },
  {
   "cell_type": "code",
   "execution_count": null,
   "metadata": {},
   "outputs": [],
   "source": [
    "data_filtrado.to_csv(\"DataFiltrado.csv\", index=False)"
   ]
  },
  {
   "cell_type": "code",
   "execution_count": null,
   "metadata": {},
   "outputs": [],
   "source": [
    "data_filtrado.columns.tolist()"
   ]
  },
  {
   "cell_type": "code",
   "execution_count": null,
   "metadata": {},
   "outputs": [],
   "source": [
    "data[\"Causa\"].unique()"
   ]
  },
  {
   "cell_type": "code",
   "execution_count": null,
   "metadata": {},
   "outputs": [],
   "source": [
    "(pd.crosstab(columns=\"tickets\", index=data_filtrado[\"Agente\"]).sort_values(\"tickets\", ascending=False).iloc[:10]).index.tolist()"
   ]
  },
  {
   "cell_type": "code",
   "execution_count": null,
   "metadata": {},
   "outputs": [],
   "source": [
    "tcagente=pd.crosstab(columns=data_filtrado[\"AnoRegistro\"], index=data_filtrado[\"Agente\"]).loc[['Edgar Cardenas Ollivier',\n",
    " 'Daniel Moreno .',\n",
    " 'Erick Deyta .',\n",
    " 'Rolando Guadiana Garcia',\n",
    " 'Hossni Sanchez Contreras',\n",
    " 'Guillermo Guzman 0',\n",
    " 'Diego Del Valle .Arvizu',\n",
    " 'Pascual Antonio Jonguitud',\n",
    " 'Javier Cardona ',\n",
    " 'Orlando Francisco Guzmán Teneyuque']]"
   ]
  },
  {
   "cell_type": "code",
   "execution_count": null,
   "metadata": {},
   "outputs": [],
   "source": [
    "tcagente.plot(kind=\"area\",figsize=(20,10), stacked=False)"
   ]
  },
  {
   "cell_type": "code",
   "execution_count": null,
   "metadata": {},
   "outputs": [],
   "source": [
    "data.columns.tolist()"
   ]
  },
  {
   "cell_type": "code",
   "execution_count": null,
   "metadata": {},
   "outputs": [],
   "source": [
    "data[\"AgentePuesto\"] = data[\"AgentePuesto\"].replace(\"\\xa0Agente Jr\", \"Agente Jr\")\n",
    "data[\"AgentePuesto\"] = data[\"AgentePuesto\"].replace(\"Agente Service Desk\", \"Service Desk\")\n",
    "data[\"AgentePuesto\"] = data[\"AgentePuesto\"].replace(\"Agente de Service Desk\", \"Service Desk\")\n",
    "data[\"AgentePuesto\"] = data[\"AgentePuesto\"].replace(\"Coordinador Service Desk\", \"Service Desk\")\n",
    "\n",
    "data[\"AgentePuesto\"] = data[\"AgentePuesto\"].replace(\"\\xa0Supervisor\", \"Supervisor\")\n",
    "\n",
    "\n",
    "data[\"AgentePuesto\"] = data[\"AgentePuesto\"].replace(\"Proveedor \", \"Proveedor\")\n",
    "data[\"AgentePuesto\"] = data[\"AgentePuesto\"].replace(\"Proveedor Scitum\", \"Proveedor\")\n",
    "data[\"AgentePuesto\"] = data[\"AgentePuesto\"].replace(\"Proveedor IBM\", \"Proveedor\")\n",
    "\n",
    "data[\"AgentePuesto\"] = data[\"AgentePuesto\"].replace(\"Proveedor Softkek\", \"Proveedor Softek\")\n",
    "data[\"AgentePuesto\"] = data[\"AgentePuesto\"].replace(\"Softtek\", \"Proveedor Softek\")\n",
    "data[\"AgentePuesto\"] = data[\"AgentePuesto\"].replace(\"Operador (Softtek)\", \"Proveedor Softek\")\n",
    "data[\"AgentePuesto\"] = data[\"AgentePuesto\"].replace(\"Segundo Nivel Softtek\", \"Proveedor Softek\")\n",
    "\n",
    "data[\"AgentePuesto\"] = data[\"AgentePuesto\"].replace(\"agente\", \"Agente\")\n",
    "\n",
    "data[\"AgentePuesto\"] = data[\"AgentePuesto\"].replace(\"2do Nivel\", \"Segundo Nivel\")\n",
    "data[\"AgentePuesto\"] = data[\"AgentePuesto\"].replace(\"Segundo Nivel \", \"Segundo Nivel\")\n",
    "\n"
   ]
  },
  {
   "cell_type": "code",
   "execution_count": null,
   "metadata": {},
   "outputs": [],
   "source": [
    "data[\"AgentePuesto\"] = data[\"AgentePuesto\"].replace(\"Proveedor Softek\", \"Proveedor\")"
   ]
  },
  {
   "cell_type": "code",
   "execution_count": null,
   "metadata": {},
   "outputs": [],
   "source": [
    "print(data[\"AgentePuesto\"].nunique())\n",
    "data[\"AgentePuesto\"].unique()"
   ]
  },
  {
   "cell_type": "code",
   "execution_count": null,
   "metadata": {},
   "outputs": [],
   "source": [
    "pd.crosstab(data[\"AgentePuesto\"], \"tickets\").sort_values(\"AgentePuesto\", ascending=True)"
   ]
  },
  {
   "cell_type": "code",
   "execution_count": null,
   "metadata": {},
   "outputs": [],
   "source": [
    "(data[data[\"AgentePuesto\"]==\"Segundo Nivel\"])[[\"GrupoN1\",\"Grupo\"]].head(100)"
   ]
  },
  {
   "cell_type": "code",
   "execution_count": null,
   "metadata": {},
   "outputs": [],
   "source": [
    "pd.crosstab(data[\"Causa\"], \"tickets\").sort_values(\"tickets\", ascending=False)"
   ]
  },
  {
   "cell_type": "code",
   "execution_count": null,
   "metadata": {},
   "outputs": [],
   "source": [
    "data.columns.tolist()"
   ]
  },
  {
   "cell_type": "code",
   "execution_count": null,
   "metadata": {},
   "outputs": [],
   "source": [
    "data[\"CumplimientoSLASolucion\"].unique()"
   ]
  },
  {
   "cell_type": "code",
   "execution_count": null,
   "metadata": {},
   "outputs": [],
   "source": [
    "datanosla=(data[data[\"CumplimientoSLASolucion\"]==0])"
   ]
  },
  {
   "cell_type": "code",
   "execution_count": null,
   "metadata": {},
   "outputs": [],
   "source": [
    "datanosla.to_csv(\"dataNOSLA.csv\",index=False)"
   ]
  },
  {
   "cell_type": "code",
   "execution_count": null,
   "metadata": {},
   "outputs": [],
   "source": [
    "datanosla.head()"
   ]
  },
  {
   "cell_type": "code",
   "execution_count": null,
   "metadata": {},
   "outputs": [],
   "source": [
    "agente2019=data[data[\"AnoRegistro\"]==2019]"
   ]
  },
  {
   "cell_type": "code",
   "execution_count": null,
   "metadata": {},
   "outputs": [],
   "source": [
    "agente2018=data[data[\"AnoRegistro\"].isin([2015,2016,2017,2018])]"
   ]
  },
  {
   "cell_type": "code",
   "execution_count": null,
   "metadata": {},
   "outputs": [],
   "source": [
    "data.columns.tolist()"
   ]
  },
  {
   "cell_type": "code",
   "execution_count": null,
   "metadata": {},
   "outputs": [],
   "source": [
    "pd.crosstab(agente2019[\"Agente\"], \"tickets\").sort_values(\"tickets\", ascending=False)"
   ]
  },
  {
   "cell_type": "code",
   "execution_count": null,
   "metadata": {
    "scrolled": true
   },
   "outputs": [],
   "source": [
    "pd.crosstab(agente2018[\"Agente\"], \"tickets\").sort_values(\"tickets\", ascending=False)"
   ]
  },
  {
   "cell_type": "code",
   "execution_count": null,
   "metadata": {},
   "outputs": [],
   "source": [
    "print(data[data[\"TiempoSolucion\"]<=72].shape)\n",
    "print(data[(data[\"TiempoSolucion\"]>72) & (data[\"TiempoSolucion\"]<168)].shape)\n",
    "print(data[data[\"TiempoSolucion\"]>168].shape)\n"
   ]
  },
  {
   "cell_type": "code",
   "execution_count": null,
   "metadata": {},
   "outputs": [],
   "source": [
    "sla=data[data[\"CumplimientoSLASolucion\"]==0]"
   ]
  },
  {
   "cell_type": "code",
   "execution_count": null,
   "metadata": {},
   "outputs": [],
   "source": [
    "sla.shape"
   ]
  },
  {
   "cell_type": "code",
   "execution_count": null,
   "metadata": {},
   "outputs": [],
   "source": [
    "pd.crosstab((data[data[\"AnoRegistro\"]==2019])[\"Agente\"],\"tickets\", margins=True).sort_values(\"tickets\", ascending=False)"
   ]
  },
  {
   "cell_type": "code",
   "execution_count": null,
   "metadata": {},
   "outputs": [],
   "source": [
    "pd.crosstab(sla[\"CategoriaN1\"], \"tickets\")"
   ]
  },
  {
   "cell_type": "code",
   "execution_count": null,
   "metadata": {},
   "outputs": [],
   "source": [
    "print(data[data[\"TiempoSolucion\"]<10].shape)\n",
    "print(data[(data[\"TiempoSolucion\"]>10) & (data[\"TiempoSolucion\"]<45)].shape)\n",
    "print(data[(data[\"TiempoSolucion\"]>45) & (data[\"TiempoSolucion\"]<60)].shape)\n",
    "print(data[data[\"TiempoSolucion\"]>180].shape)"
   ]
  },
  {
   "cell_type": "code",
   "execution_count": null,
   "metadata": {},
   "outputs": [],
   "source": [
    "data.columns.tolist()"
   ]
  },
  {
   "cell_type": "code",
   "execution_count": null,
   "metadata": {},
   "outputs": [],
   "source": [
    "(data[data[\"CerradoEnLinea\"]==1]).shape/(data[])"
   ]
  },
  {
   "cell_type": "code",
   "execution_count": null,
   "metadata": {},
   "outputs": [],
   "source": [
    "data.shape"
   ]
  },
  {
   "cell_type": "code",
   "execution_count": null,
   "metadata": {},
   "outputs": [],
   "source": [
    "data[(data[\"CerradoEnLinea\"]==1)].shape[0]/data.shape[0]"
   ]
  },
  {
   "cell_type": "code",
   "execution_count": null,
   "metadata": {},
   "outputs": [],
   "source": [
    "data[\"Grupo\"].unique()"
   ]
  },
  {
   "cell_type": "code",
   "execution_count": null,
   "metadata": {},
   "outputs": [],
   "source": [
    "categs=data[[\"CategoriaN1\",\"GrupoN1\"]]"
   ]
  },
  {
   "cell_type": "code",
   "execution_count": null,
   "metadata": {},
   "outputs": [],
   "source": [
    "data[data[\"Tiempo\"]]\n",
    "\n",
    "conditions = [\n",
    "    df['eri_hispanic'] == 1,\n",
    "    df[['eri_afr_amer', 'eri_asian', 'eri_hawaiian', 'eri_nat_amer', 'eri_white']].sum(1).gt(1),\n",
    "    df['eri_nat_amer'] == 1,\n",
    "    df['eri_asian'] == 1,\n",
    "    df['eri_afr_amer'] == 1,\n",
    "    df['eri_hawaiian'] == 1,\n",
    "    df['eri_white'] == 1,\n",
    "]"
   ]
  },
  {
   "cell_type": "code",
   "execution_count": null,
   "metadata": {},
   "outputs": [],
   "source": [
    "(data[(data[\"GrupoN1\"]==\"SDP\") & (data[\"CerradoEnLinea\"]==0)])[\"TiempoSolucion\"]"
   ]
  },
  {
   "cell_type": "code",
   "execution_count": null,
   "metadata": {},
   "outputs": [],
   "source": [
    "data[data[\"Fuente\"]==\"Llamada\"]"
   ]
  }
 ],
 "metadata": {
  "kernelspec": {
   "display_name": "Python 3",
   "language": "python",
   "name": "python3"
  },
  "language_info": {
   "codemirror_mode": {
    "name": "ipython",
    "version": 3
   },
   "file_extension": ".py",
   "mimetype": "text/x-python",
   "name": "python",
   "nbconvert_exporter": "python",
   "pygments_lexer": "ipython3",
   "version": "3.7.3"
  }
 },
 "nbformat": 4,
 "nbformat_minor": 2
}
